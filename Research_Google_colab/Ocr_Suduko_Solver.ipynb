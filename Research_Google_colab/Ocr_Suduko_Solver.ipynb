{
  "nbformat": 4,
  "nbformat_minor": 0,
  "metadata": {
    "colab": {
      "provenance": []
    },
    "kernelspec": {
      "name": "python3",
      "display_name": "Python 3"
    },
    "language_info": {
      "name": "python"
    }
  },
  "cells": [
    {
      "cell_type": "markdown",
      "source": [
        "**Installing Packages.**"
      ],
      "metadata": {
        "id": "4nYZcDTDQ2Cd"
      }
    },
    {
      "cell_type": "code",
      "execution_count": null,
      "metadata": {
        "id": "_c_v1L-vMgQG",
        "colab": {
          "base_uri": "https://localhost:8080/"
        },
        "outputId": "45f76b76-f3df-4ff8-d658-36e5a1c6a8a0"
      },
      "outputs": [
        {
          "output_type": "stream",
          "name": "stdout",
          "text": [
            "\u001b[2K   \u001b[90m━━━━━━━━━━━━━━━━━━━━━━━━━━━━━━━━━━━━━━━━\u001b[0m \u001b[32m2.9/2.9 MB\u001b[0m \u001b[31m26.6 MB/s\u001b[0m eta \u001b[36m0:00:00\u001b[0m\n",
            "\u001b[2K   \u001b[90m━━━━━━━━━━━━━━━━━━━━━━━━━━━━━━━━━━━━━━━━\u001b[0m \u001b[32m307.2/307.2 kB\u001b[0m \u001b[31m595.9 kB/s\u001b[0m eta \u001b[36m0:00:00\u001b[0m\n",
            "\u001b[2K   \u001b[90m━━━━━━━━━━━━━━━━━━━━━━━━━━━━━━━━━━━━━━━━\u001b[0m \u001b[32m908.3/908.3 kB\u001b[0m \u001b[31m47.2 MB/s\u001b[0m eta \u001b[36m0:00:00\u001b[0m\n",
            "\u001b[2K   \u001b[90m━━━━━━━━━━━━━━━━━━━━━━━━━━━━━━━━━━━━━━━━\u001b[0m \u001b[32m281.3/281.3 kB\u001b[0m \u001b[31m21.0 MB/s\u001b[0m eta \u001b[36m0:00:00\u001b[0m\n",
            "\u001b[?25h"
          ]
        }
      ],
      "source": [
        "!pip install opencv-python -q\n",
        "!pip install numpy -q\n",
        "!pip install matplotlib -q\n",
        "!pip install easyocr -q"
      ]
    },
    {
      "cell_type": "markdown",
      "source": [
        "**Importing Libraries.**"
      ],
      "metadata": {
        "id": "mtRpEqOfQ8ba"
      }
    },
    {
      "cell_type": "code",
      "source": [
        "import cv2\n",
        "import numpy as np\n",
        "import matplotlib.pyplot as plt\n",
        "import easyocr\n",
        "from google.colab.patches import cv2_imshow\n"
      ],
      "metadata": {
        "id": "W5vWWXGEXZVO"
      },
      "execution_count": null,
      "outputs": []
    },
    {
      "cell_type": "markdown",
      "source": [
        "**Initializing Constants.**"
      ],
      "metadata": {
        "id": "7WtLue8ZREhc"
      }
    },
    {
      "cell_type": "code",
      "source": [
        "#constants\n",
        "IMAGE_PATH = '/content/rr.jpeg'\n",
        "ADAPTIVE_THRESH_BLOCK_SIZE = 15\n",
        "ADAPTIVE_THRESH_C = 5\n",
        "GAUSSIAN_BLUR_KERNEL_SIZE = (5, 5)\n",
        "CANNY_EDGE_DETECTION_THRESHOLD1 = 50\n",
        "CANNY_EDGE_DETECTION_THRESHOLD2 = 150\n",
        "MORPH_OPEN_KERNEL_SIZE = (2, 2)"
      ],
      "metadata": {
        "id": "djVqb28zj-5m"
      },
      "execution_count": null,
      "outputs": []
    },
    {
      "cell_type": "markdown",
      "source": [
        "**Loading Image of the sudoku Grid.**"
      ],
      "metadata": {
        "id": "TvR4C3d9ent5"
      }
    },
    {
      "cell_type": "code",
      "source": [
        "#load image\n",
        "def load_image(image_path):\n",
        "    \"\"\"Loads an image from a file.\"\"\"\n",
        "    return cv2.imread(image_path)\n"
      ],
      "metadata": {
        "id": "HZySKf5hkSt6"
      },
      "execution_count": null,
      "outputs": []
    },
    {
      "cell_type": "markdown",
      "source": [
        "**Preprocessing The Image.**"
      ],
      "metadata": {
        "id": "6oBa7zt_e4Kw"
      }
    },
    {
      "cell_type": "code",
      "source": [
        "    #grayscale\n",
        "def convert_to_grayscale(image):\n",
        "  image = cv2.cvtColor(image, cv2.COLOR_BGR2GRAY)\n",
        "  return image\n",
        "\n",
        "    #adapative Thrashold\n",
        "def apply_adaptive_thresholding(image):\n",
        "  return cv2.adaptiveThreshold(image, 255, cv2.ADAPTIVE_THRESH_GAUSSIAN_C, cv2.THRESH_BINARY, ADAPTIVE_THRESH_BLOCK_SIZE, ADAPTIVE_THRESH_C)\n",
        "\n",
        "    #Guassion BLur\n",
        "def apply_gaussian_blur(image):\n",
        "  image = cv2.GaussianBlur(image, GAUSSIAN_BLUR_KERNEL_SIZE, 0)\n",
        "  return image\n",
        "\n",
        "def apply_morphological_operations(image):\n",
        "  kernel = np.ones((3,3), np.uint8)\n",
        "  mage = cv2.morphologyEx(image, cv2.MORPH_OPEN, kernel)\n",
        "  return image\n",
        "\n",
        "\n",
        "    #edge detection\n",
        "def apply_canny_edge_detection(image):\n",
        "  image = cv2.Canny(image, CANNY_EDGE_DETECTION_THRESHOLD1, CANNY_EDGE_DETECTION_THRESHOLD2)\n",
        "  return image\n",
        "\n",
        "    #Finding Contoures\n",
        "def find_contours(image):\n",
        "  contours, _ = cv2.findContours(image, cv2.RETR_EXTERNAL, cv2.CHAIN_APPROX_SIMPLE)\n",
        "  return contours\n",
        "\n",
        "\n",
        "    #Finding Largest Contour\n",
        "def find_largest_contour(contours):\n",
        "  largest_contour = None\n",
        "  max_area = 0\n",
        "  for contour in contours:\n",
        "        area = cv2.contourArea(contour)\n",
        "        if area > max_area:\n",
        "            max_area = area\n",
        "            largest_contour = contour\n",
        "\n",
        "  return largest_contour\n",
        "\n",
        "\n",
        "def approximate_contour(contour):\n",
        "  peri = cv2.arcLength(contour, True)\n",
        "  return cv2.approxPolyDP(contour, 0.02 * peri, True)\n",
        "\n",
        "\n",
        "    #Warpping the image with the preprocessed Contours\n",
        "def warp_perspective(image, contour):\n",
        "  if len(contour) < 4:\n",
        "        return image\n",
        "  pts1 = np.array([contour[0], contour[1], contour[2], contour[3]], dtype=\"float32\")\n",
        "  side_length = max(np.linalg.norm(pts1[0] - pts1[2]), np.linalg.norm(pts1[1] - pts1[3]))\n",
        "  pts2 = np.array([[0, 0], [side_length - 1, 0], [side_length - 1, side_length - 1], [0, side_length - 1]], dtype=\"float32\")\n",
        "  M = cv2.getPerspectiveTransform(pts1, pts2)\n",
        "\n",
        "  return cv2.warpPerspective(image, M, (int(side_length), int(side_length)))\n"
      ],
      "metadata": {
        "id": "tYa4FTyIkeRI"
      },
      "execution_count": null,
      "outputs": []
    },
    {
      "cell_type": "markdown",
      "source": [
        "**Extracting Numbers From the image that is provided by the user.**"
      ],
      "metadata": {
        "id": "RCkd6M-LgkY7"
      }
    },
    {
      "cell_type": "code",
      "source": [
        "def extract_digits(image, reader):\n",
        "    \"\"\"Extracts digits from an image and saves each cell before extraction.\"\"\"\n",
        "    grid = [[0 for _ in range(9)] for _ in range(9)]\n",
        "    cell_size = int(image.shape[0] / 9)\n",
        "\n",
        "    for i in range(9):\n",
        "        for j in range(9):\n",
        "\n",
        "\n",
        "            # Extract cell\n",
        "            cell = image[i * cell_size:(i + 1) * cell_size, j * cell_size:(j + 1) * cell_size]\n",
        "\n",
        "\n",
        "\n",
        "            # Preprocess cell\n",
        "            cell_gray = cv2.cvtColor(cell, cv2.COLOR_BGR2GRAY)\n",
        "            cell_thresh = cv2.adaptiveThreshold(cell_gray, 255, cv2.ADAPTIVE_THRESH_GAUSSIAN_C, cv2.THRESH_BINARY_INV, ADAPTIVE_THRESH_BLOCK_SIZE, ADAPTIVE_THRESH_C)\n",
        "            cell_thresh = cv2.bitwise_not(cell_thresh)\n",
        "            cell_thresh = cell_thresh[10:255, 10:255]\n",
        "            cell_thresh = apply_morphological_operations(cell_thresh)\n",
        "\n",
        "            # Perform OCR on the cell\n",
        "            result = reader.readtext(cell_thresh, detail=0, allowlist='123456789')\n",
        "            if result and result[0].isdigit():\n",
        "                grid[i][j] = int(result[0])\n",
        "            else:\n",
        "                grid[i][j] = 0\n",
        "\n",
        "    return grid\n"
      ],
      "metadata": {
        "id": "NNKqgG0rlr_e"
      },
      "execution_count": null,
      "outputs": []
    },
    {
      "cell_type": "markdown",
      "source": [
        "**Detecting the Grid and then isolating each cell from the grid**"
      ],
      "metadata": {
        "id": "kVn-pT_-gwXS"
      }
    },
    {
      "cell_type": "code",
      "source": [
        "def detect_sudoku_grid(image_path):\n",
        "    \"\"\"Detects and extracts a Sudoku grid from an image.\"\"\"\n",
        "    image = load_image(image_path)\n",
        "    if image is None:\n",
        "        print(\"Error: Image could not be loaded.\")\n",
        "        return None\n",
        "\n",
        "    gray = convert_to_grayscale(image)\n",
        "    thresh = apply_adaptive_thresholding(gray)\n",
        "    thresh = cv2.bitwise_not(thresh)\n",
        "    contours = find_contours(thresh)\n",
        "\n",
        "    if len(contours) == 0:\n",
        "        print(\"Error: No contours found.\")\n",
        "        return None\n",
        "\n",
        "    largest_contour = find_largest_contour(contours)\n",
        "    if largest_contour is None:\n",
        "        print(\"Error: No largest contour found.\")\n",
        "        return None\n",
        "\n",
        "    approx = approximate_contour(largest_contour)\n",
        "    if len(approx) != 4:\n",
        "        print(\"Error: Largest contour does not approximate to 4 points.\")\n",
        "        return None\n",
        "\n",
        "    warped = warp_perspective(image, approx)\n",
        "    if warped is None:\n",
        "        print(\"Error: Warping perspective failed.\")\n",
        "        return None\n",
        "\n",
        "    warped = cv2.flip(warped, 0)\n",
        "    warped = cv2.rotate(warped, cv2.ROTATE_90_CLOCKWISE)\n",
        "    cv2.imwrite(\"wrapped_image.jpg\", warped)\n",
        "\n",
        "    reader = easyocr.Reader(['en'], gpu=False)\n",
        "    sudoku_grid = extract_digits(warped, reader)\n",
        "    #plt.imshow(warped)\n",
        "\n",
        "    if sudoku_grid is None:\n",
        "        print(\"Error: Sudoku grid extraction failed.\")\n",
        "        return None\n",
        "\n",
        "    return sudoku_grid"
      ],
      "metadata": {
        "id": "Z789IbKYOhQ0"
      },
      "execution_count": null,
      "outputs": []
    },
    {
      "cell_type": "markdown",
      "source": [
        "**Making the Grid and Solving it by using backTracking Algoritm.**"
      ],
      "metadata": {
        "id": "4IO8VNRGhL3O"
      }
    },
    {
      "cell_type": "code",
      "source": [
        "def print_board(bo):\n",
        "    for i in range(len(bo)):\n",
        "        if i % 3 == 0 and i != 0:\n",
        "            print(\"- - - - - - - - - - - - - \")\n",
        "\n",
        "        for j in range(len(bo[0])):\n",
        "            if j % 3 == 0 and j != 0:\n",
        "                print(\" | \", end=\"\")\n",
        "\n",
        "            if j == 8:\n",
        "                print(bo[i][j])\n",
        "            else:\n",
        "                print(str(bo[i][j]) + \" \", end=\"\")\n",
        "\n",
        "\n",
        "def find_empty(bo):\n",
        "    for i in range(len(bo)):\n",
        "        for j in range(len(bo[0])):\n",
        "            if bo[i][j] == 0:\n",
        "                return (i, j)  # row, col\n",
        "\n",
        "    return None\n",
        "\n",
        "\n",
        "def solve(bo):\n",
        "    find = find_empty(bo)\n",
        "    if not find:\n",
        "        return True\n",
        "    else:\n",
        "        row, col = find\n",
        "\n",
        "    for i in range(1,10):\n",
        "        if valid(bo, i, (row, col)):\n",
        "            bo[row][col] = i\n",
        "\n",
        "            if solve(bo):\n",
        "                return True\n",
        "\n",
        "            bo[row][col] = 0\n",
        "\n",
        "    return False\n",
        "\n",
        "\n",
        "def valid(bo, num, pos):\n",
        "    # Check row\n",
        "    for i in range(len(bo[0])):\n",
        "        if bo[pos[0]][i] == num and pos[1] != i:\n",
        "            return False\n",
        "\n",
        "    # Check column\n",
        "    for i in range(len(bo)):\n",
        "        if bo[i][pos[1]] == num and pos[0] != i:\n",
        "            return False\n",
        "\n",
        "    # Check box\n",
        "    box_x = pos[1] // 3\n",
        "    box_y = pos[0] // 3\n",
        "\n",
        "    for i in range(box_y*3, box_y*3 + 3):\n",
        "        for j in range(box_x * 3, box_x*3 + 3):\n",
        "            if bo[i][j] == num and (i,j) != pos:\n",
        "                return False\n",
        "\n",
        "    return True\n",
        "\n",
        "\n",
        "def print_board(bo):\n",
        "    for i in range(len(bo)):\n",
        "        if i % 3 == 0 and i != 0:\n",
        "            print(\"- - - - - - - - - - - - - \")\n",
        "\n",
        "        for j in range(len(bo[0])):\n",
        "            if j % 3 == 0 and j != 0:\n",
        "                print(\" | \", end=\"\")\n",
        "\n",
        "            if j == 8:\n",
        "                print(bo[i][j])\n",
        "            else:\n",
        "                print(str(bo[i][j]) + \" \", end=\"\")\n",
        "\n",
        "\n",
        "def find_empty(bo):\n",
        "    for i in range(len(bo)):\n",
        "        for j in range(len(bo[0])):\n",
        "            if bo[i][j] == 0:\n",
        "                return (i, j)  # row, col\n",
        "\n",
        "    return None\n",
        "\n",
        "\n"
      ],
      "metadata": {
        "id": "pRfp__F0J0s5"
      },
      "execution_count": null,
      "outputs": []
    },
    {
      "cell_type": "code",
      "source": [
        "sudoku_grid = detect_sudoku_grid(IMAGE_PATH)\n",
        "image1 = cv2.imread(IMAGE_PATH)\n",
        "image1 = cv2.resize(image1, (200, 200))\n",
        "cv2_imshow(image1)\n",
        "solve(sudoku_grid)\n",
        "print(\"_________________________\")\n",
        "print_board(sudoku_grid)"
      ],
      "metadata": {
        "colab": {
          "base_uri": "https://localhost:8080/",
          "height": 463
        },
        "id": "t9L_l5cdl6IV",
        "outputId": "c72ab4d0-6b63-49a3-c706-b2713de35d22"
      },
      "execution_count": null,
      "outputs": [
        {
          "output_type": "stream",
          "name": "stderr",
          "text": [
            "WARNING:easyocr.easyocr:Using CPU. Note: This module is much faster with a GPU.\n"
          ]
        },
        {
          "output_type": "display_data",
          "data": {
            "text/plain": [
              "<PIL.Image.Image image mode=RGB size=200x200>"
            ],
            "image/png": "[encoded data removed]"
          },
          "metadata": {}
        },
        {
          "output_type": "stream",
          "name": "stdout",
          "text": [
            "_________________________\n",
            "4 9 6  | 3 1 5  | 8 7 2\n",
            "1 3 8  | 2 4 7  | 6 9 5\n",
            "2 5 7  | 6 8 9  | 3 4 1\n",
            "- - - - - - - - - - - - - \n",
            "9 1 3  | 8 2 6  | 7 5 4\n",
            "6 7 5  | 4 9 1  | 2 8 3\n",
            "8 4 2  | 7 5 3  | 9 1 6\n",
            "- - - - - - - - - - - - - \n",
            "5 6 1  | 9 3 8  | 4 2 7\n",
            "7 2 9  | 5 6 4  | 1 3 8\n",
            "3 8 4  | 1 7 2  | 5 6 9\n"
          ]
        }
      ]
    }
  ]
}